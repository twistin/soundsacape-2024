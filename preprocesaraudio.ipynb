{
 "cells": [
  {
   "cell_type": "markdown",
   "id": "dd7c6bb6-93f8-4ed1-8e10-c860d82c3992",
   "metadata": {},
   "source": [
    "# Normalización, renombrado y troceado de audio"
   ]
  },
  {
   "cell_type": "code",
   "execution_count": 11,
   "id": "9f4a65c2-30fc-4720-911f-27a382f02558",
   "metadata": {
    "scrolled": true
   },
   "outputs": [
    {
     "name": "stdout",
     "output_type": "stream",
     "text": [
      "Encontrados 10 archivos WAV\n"
     ]
    },
    {
     "name": "stderr",
     "output_type": "stream",
     "text": [
      "Procesando archivos:   0%|          | 0/10 [00:00<?, ?it/s]"
     ]
    },
    {
     "name": "stdout",
     "output_type": "stream",
     "text": [
      "\n",
      "Procesando: ZOOM0013_LR.WAV\n",
      "Duración original: 250.64 segundos\n",
      "Número de segmentos: 5\n"
     ]
    },
    {
     "name": "stderr",
     "output_type": "stream",
     "text": [
      "Procesando archivos:  10%|█         | 1/10 [00:02<00:26,  2.93s/it]"
     ]
    },
    {
     "name": "stdout",
     "output_type": "stream",
     "text": [
      "\n",
      "Procesando: ZOOM0011_LR.WAV\n",
      "Duración original: 665.56 segundos\n",
      "Número de segmentos: 12\n"
     ]
    },
    {
     "name": "stderr",
     "output_type": "stream",
     "text": [
      "Procesando archivos:  20%|██        | 2/10 [00:10<00:46,  5.86s/it]"
     ]
    },
    {
     "name": "stdout",
     "output_type": "stream",
     "text": [
      "\n",
      "Procesando: ZOOM0015_LR.WAV\n",
      "Duración original: 497.98 segundos\n",
      "Número de segmentos: 9\n"
     ]
    },
    {
     "name": "stderr",
     "output_type": "stream",
     "text": [
      "Procesando archivos:  30%|███       | 3/10 [00:16<00:40,  5.84s/it]"
     ]
    },
    {
     "name": "stdout",
     "output_type": "stream",
     "text": [
      "\n",
      "Procesando: ZOOM0019_LR.WAV\n",
      "Duración original: 331.58 segundos\n",
      "Número de segmentos: 6\n"
     ]
    },
    {
     "name": "stderr",
     "output_type": "stream",
     "text": [
      "Procesando archivos:  40%|████      | 4/10 [00:20<00:30,  5.07s/it]"
     ]
    },
    {
     "name": "stdout",
     "output_type": "stream",
     "text": [
      "\n",
      "Procesando: ZOOM0017_LR.WAV\n",
      "Duración original: 309.38 segundos\n",
      "Número de segmentos: 6\n"
     ]
    },
    {
     "name": "stderr",
     "output_type": "stream",
     "text": [
      "Procesando archivos:  50%|█████     | 5/10 [00:24<00:22,  4.53s/it]"
     ]
    },
    {
     "name": "stdout",
     "output_type": "stream",
     "text": [
      "\n",
      "Procesando: ZOOM0012_LR.WAV\n",
      "Duración original: 526.72 segundos\n",
      "Número de segmentos: 9\n"
     ]
    },
    {
     "name": "stderr",
     "output_type": "stream",
     "text": [
      "Procesando archivos:  60%|██████    | 6/10 [00:30<00:20,  5.09s/it]"
     ]
    },
    {
     "name": "stdout",
     "output_type": "stream",
     "text": [
      "\n",
      "Procesando: ZOOM0010_LR.WAV\n",
      "Duración original: 674.65 segundos\n",
      "Número de segmentos: 12\n"
     ]
    },
    {
     "name": "stderr",
     "output_type": "stream",
     "text": [
      "Procesando archivos:  70%|███████   | 7/10 [00:38<00:18,  6.04s/it]"
     ]
    },
    {
     "name": "stdout",
     "output_type": "stream",
     "text": [
      "\n",
      "Procesando: ZOOM0014_LR.WAV\n",
      "Duración original: 520.44 segundos\n",
      "Número de segmentos: 9\n"
     ]
    },
    {
     "name": "stderr",
     "output_type": "stream",
     "text": [
      "Procesando archivos:  80%|████████  | 8/10 [00:44<00:12,  6.06s/it]"
     ]
    },
    {
     "name": "stdout",
     "output_type": "stream",
     "text": [
      "\n",
      "Procesando: ZOOM0018_LR.WAV\n",
      "Duración original: 484.42 segundos\n",
      "Número de segmentos: 8\n"
     ]
    },
    {
     "name": "stderr",
     "output_type": "stream",
     "text": [
      "Procesando archivos:  90%|█████████ | 9/10 [00:50<00:05,  5.95s/it]"
     ]
    },
    {
     "name": "stdout",
     "output_type": "stream",
     "text": [
      "\n",
      "Procesando: ZOOM0016_LR.WAV\n",
      "Duración original: 455.24 segundos\n",
      "Número de segmentos: 8\n"
     ]
    },
    {
     "name": "stderr",
     "output_type": "stream",
     "text": [
      "Procesando archivos: 100%|██████████| 10/10 [00:55<00:00,  5.55s/it]"
     ]
    },
    {
     "name": "stdout",
     "output_type": "stream",
     "text": [
      "\n",
      "Procesamiento completado:\n",
      "- Archivos procesados: 10\n",
      "- Segmentos totales generados: 84\n"
     ]
    },
    {
     "name": "stderr",
     "output_type": "stream",
     "text": [
      "\n"
     ]
    }
   ],
   "source": [
    "import os\n",
    "import numpy as np\n",
    "import librosa\n",
    "import soundfile as sf\n",
    "from tqdm import tqdm\n",
    "\n",
    "class AudioPreprocessor:\n",
    "    def __init__(self, input_folder, output_folder, segment_duration=60):\n",
    "        \"\"\"\n",
    "        Inicializa el preprocesador de audio\n",
    "        \n",
    "        :param input_folder: Carpeta con los archivos WAV originales\n",
    "        :param output_folder: Carpeta donde se guardarán los archivos procesados\n",
    "        :param segment_duration: Duración de cada segmento en segundos (default: 60)\n",
    "        \"\"\"\n",
    "        self.input_folder = input_folder\n",
    "        self.output_folder = output_folder\n",
    "        self.segment_duration = segment_duration\n",
    "        \n",
    "        # Crear carpeta de salida si no existe\n",
    "        os.makedirs(output_folder, exist_ok=True)\n",
    "\n",
    "    def normalize_audio(self, audio):\n",
    "        \"\"\"Normaliza el audio a un rango de -1 a 1\"\"\"\n",
    "        return librosa.util.normalize(audio)\n",
    "\n",
    "    def segment_audio(self, audio, sr):\n",
    "        \"\"\"\n",
    "        Divide el audio en segmentos de duración específica\n",
    "        \n",
    "        :param audio: Array de numpy con el audio\n",
    "        :param sr: Frecuencia de muestreo\n",
    "        :return: Lista de segmentos de audio\n",
    "        \"\"\"\n",
    "        # Calcular el número de muestras por segmento\n",
    "        segment_length = int(sr * self.segment_duration)\n",
    "        \n",
    "        # Calcular número de segmentos completos\n",
    "        num_segments = len(audio) // segment_length\n",
    "        \n",
    "        segments = []\n",
    "        for i in range(num_segments):\n",
    "            start = i * segment_length\n",
    "            end = start + segment_length\n",
    "            segment = audio[start:end]\n",
    "            segments.append(segment)\n",
    "        \n",
    "        # Manejar el último segmento si es necesario\n",
    "        remaining = audio[num_segments * segment_length:]\n",
    "        if len(remaining) > sr * 5:  # Solo incluir si es mayor a 5 segundos\n",
    "            segments.append(remaining)\n",
    "        \n",
    "        return segments\n",
    "\n",
    "    def process_file(self, filename):\n",
    "        \"\"\"\n",
    "        Procesa un archivo de audio individual\n",
    "        \n",
    "        :param filename: Nombre del archivo a procesar\n",
    "        \"\"\"\n",
    "        try:\n",
    "            # Cargar el archivo\n",
    "            file_path = os.path.join(self.input_folder, filename)\n",
    "            print(f\"\\nProcesando: {filename}\")\n",
    "            \n",
    "            # Cargar audio\n",
    "            audio, sr = librosa.load(file_path, sr=None)\n",
    "            print(f\"Duración original: {len(audio)/sr:.2f} segundos\")\n",
    "            \n",
    "            # Normalizar\n",
    "            audio_normalized = self.normalize_audio(audio)\n",
    "            \n",
    "            # Segmentar\n",
    "            segments = self.segment_audio(audio_normalized, sr)\n",
    "            print(f\"Número de segmentos: {len(segments)}\")\n",
    "            \n",
    "            # Guardar segmentos\n",
    "            base_name = os.path.splitext(filename)[0]\n",
    "            for i, segment in enumerate(segments, 1):\n",
    "                # Crear nombre de archivo\n",
    "                new_filename = f\"{base_name}_part{i:03d}.wav\"\n",
    "                output_path = os.path.join(self.output_folder, new_filename)\n",
    "                \n",
    "                # Guardar archivo\n",
    "                sf.write(output_path, segment, sr, subtype='PCM_16')\n",
    "                \n",
    "            return len(segments)\n",
    "            \n",
    "        except Exception as e:\n",
    "            print(f\"Error procesando {filename}: {str(e)}\")\n",
    "            return 0\n",
    "\n",
    "    def process_folder(self):\n",
    "        \"\"\"Procesa todos los archivos WAV en la carpeta de entrada\"\"\"\n",
    "        try:\n",
    "            # Obtener lista de archivos WAV\n",
    "            wav_files = [f for f in os.listdir(self.input_folder) \n",
    "                        if f.lower().endswith('.wav')]\n",
    "            \n",
    "            if not wav_files:\n",
    "                print(\"No se encontraron archivos WAV en la carpeta de entrada.\")\n",
    "                return\n",
    "            \n",
    "            print(f\"Encontrados {len(wav_files)} archivos WAV\")\n",
    "            \n",
    "            # Procesar cada archivo\n",
    "            total_segments = 0\n",
    "            for filename in tqdm(wav_files, desc=\"Procesando archivos\"):\n",
    "                segments = self.process_file(filename)\n",
    "                total_segments += segments\n",
    "            \n",
    "            print(f\"\\nProcesamiento completado:\")\n",
    "            print(f\"- Archivos procesados: {len(wav_files)}\")\n",
    "            print(f\"- Segmentos totales generados: {total_segments}\")\n",
    "            \n",
    "        except Exception as e:\n",
    "            print(f\"Error durante el procesamiento: {str(e)}\")\n",
    "\n",
    "# Uso del script\n",
    "if __name__ == \"__main__\":\n",
    "    input_folder = \"/Volumes/Nexus/GRABACIONES DE CAMPO/2024/NOVIEMBRE/castro-dom-3-11-24/CRUDO/\"\n",
    "    output_folder = \"/Volumes/Nexus/GRABACIONES DE CAMPO/2024/NOVIEMBRE/castro-dom-3-11-24/EDICIONES/\"\n",
    "    \n",
    "    # Crear instancia del preprocesador\n",
    "    processor = AudioPreprocessor(\n",
    "        input_folder=input_folder,\n",
    "        output_folder=output_folder,\n",
    "        segment_duration=60  # Duración en segundos de cada segmento\n",
    "    )\n",
    "    \n",
    "    # Procesar archivos\n",
    "    processor.process_folder()"
   ]
  },
  {
   "cell_type": "code",
   "execution_count": null,
   "id": "ad7c14db-6731-4286-9aa0-c95da2c89d52",
   "metadata": {},
   "outputs": [],
   "source": []
  }
 ],
 "metadata": {
  "kernelspec": {
   "display_name": "Python 3 (ipykernel)",
   "language": "python",
   "name": "python3"
  },
  "language_info": {
   "codemirror_mode": {
    "name": "ipython",
    "version": 3
   },
   "file_extension": ".py",
   "mimetype": "text/x-python",
   "name": "python",
   "nbconvert_exporter": "python",
   "pygments_lexer": "ipython3",
   "version": "3.10.12"
  }
 },
 "nbformat": 4,
 "nbformat_minor": 5
}
