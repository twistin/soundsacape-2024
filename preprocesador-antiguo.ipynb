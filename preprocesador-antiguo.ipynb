{
 "cells": [
  {
   "cell_type": "code",
   "execution_count": 6,
   "id": "976b4972-8260-4d85-b1d5-e4195f60f83c",
   "metadata": {},
   "outputs": [
    {
     "name": "stdout",
     "output_type": "stream",
     "text": [
      "Encontrados 6 archivos WAV\n"
     ]
    },
    {
     "name": "stderr",
     "output_type": "stream",
     "text": [
      "Procesando archivos:   0%|          | 0/6 [00:00<?, ?it/s]"
     ]
    },
    {
     "name": "stdout",
     "output_type": "stream",
     "text": [
      "\n",
      "Procesando: 6.WAV\n",
      "Duración original: 298.26 segundos\n",
      "Número de segmentos: 5\n"
     ]
    },
    {
     "name": "stderr",
     "output_type": "stream",
     "text": [
      "Procesando archivos:  17%|█▋        | 1/6 [00:03<00:15,  3.18s/it]"
     ]
    },
    {
     "name": "stdout",
     "output_type": "stream",
     "text": [
      "\n",
      "Procesando: 5.WAV\n",
      "Duración original: 389.42 segundos\n",
      "Número de segmentos: 7\n"
     ]
    },
    {
     "name": "stderr",
     "output_type": "stream",
     "text": [
      "Procesando archivos:  33%|███▎      | 2/6 [00:07<00:15,  3.78s/it]"
     ]
    },
    {
     "name": "stdout",
     "output_type": "stream",
     "text": [
      "\n",
      "Procesando: 4.WAV\n",
      "Duración original: 369.18 segundos\n",
      "Número de segmentos: 7\n"
     ]
    },
    {
     "name": "stderr",
     "output_type": "stream",
     "text": [
      "Procesando archivos:  50%|█████     | 3/6 [00:11<00:11,  3.86s/it]"
     ]
    },
    {
     "name": "stdout",
     "output_type": "stream",
     "text": [
      "\n",
      "Procesando: 1.WAV\n",
      "Duración original: 422.14 segundos\n",
      "Número de segmentos: 7\n"
     ]
    },
    {
     "name": "stderr",
     "output_type": "stream",
     "text": [
      "Procesando archivos:  67%|██████▋   | 4/6 [00:15<00:08,  4.13s/it]"
     ]
    },
    {
     "name": "stdout",
     "output_type": "stream",
     "text": [
      "\n",
      "Procesando: 3.WAV\n",
      "Duración original: 368.50 segundos\n",
      "Número de segmentos: 7\n"
     ]
    },
    {
     "name": "stderr",
     "output_type": "stream",
     "text": [
      "Procesando archivos:  83%|████████▎ | 5/6 [00:19<00:04,  4.08s/it]"
     ]
    },
    {
     "name": "stdout",
     "output_type": "stream",
     "text": [
      "\n",
      "Procesando: 2.WAV\n",
      "Duración original: 475.16 segundos\n",
      "Número de segmentos: 8\n"
     ]
    },
    {
     "name": "stderr",
     "output_type": "stream",
     "text": [
      "Procesando archivos: 100%|██████████| 6/6 [00:24<00:00,  4.16s/it]"
     ]
    },
    {
     "name": "stdout",
     "output_type": "stream",
     "text": [
      "\n",
      "Procesamiento completado:\n",
      "- Archivos procesados: 6\n",
      "- Segmentos totales generados: 41\n"
     ]
    },
    {
     "name": "stderr",
     "output_type": "stream",
     "text": [
      "\n"
     ]
    }
   ],
   "source": [
    "import os\n",
    "import numpy as np\n",
    "import librosa\n",
    "import soundfile as sf\n",
    "from tqdm import tqdm\n",
    "\n",
    "class AudioPreprocessor:\n",
    "    def __init__(self, input_folder, output_folder, segment_duration=60):\n",
    "        \"\"\"\n",
    "        Inicializa el preprocesador de audio\n",
    "        \n",
    "        :param input_folder: Carpeta con los archivos WAV originales\n",
    "        :param output_folder: Carpeta donde se guardarán los archivos procesados\n",
    "        :param segment_duration: Duración de cada segmento en segundos (default: 60)\n",
    "        \"\"\"\n",
    "        self.input_folder = input_folder\n",
    "        self.output_folder = output_folder\n",
    "        self.segment_duration = segment_duration\n",
    "        \n",
    "        # Crear carpeta de salida si no existe\n",
    "        os.makedirs(output_folder, exist_ok=True)\n",
    "\n",
    "    def normalize_audio(self, audio):\n",
    "        \"\"\"Normaliza el audio a un rango de -1 a 1\"\"\"\n",
    "        return librosa.util.normalize(audio)\n",
    "\n",
    "    def segment_audio(self, audio, sr):\n",
    "        \"\"\"\n",
    "        Divide el audio en segmentos de duración específica\n",
    "        \n",
    "        :param audio: Array de numpy con el audio\n",
    "        :param sr: Frecuencia de muestreo\n",
    "        :return: Lista de segmentos de audio\n",
    "        \"\"\"\n",
    "        # Calcular el número de muestras por segmento\n",
    "        segment_length = int(sr * self.segment_duration)\n",
    "        \n",
    "        # Calcular número de segmentos completos\n",
    "        num_segments = len(audio) // segment_length\n",
    "        \n",
    "        segments = []\n",
    "        for i in range(num_segments):\n",
    "            start = i * segment_length\n",
    "            end = start + segment_length\n",
    "            segment = audio[start:end]\n",
    "            segments.append(segment)\n",
    "        \n",
    "        # Manejar el último segmento si es necesario\n",
    "        remaining = audio[num_segments * segment_length:]\n",
    "        if len(remaining) > sr * 5:  # Solo incluir si es mayor a 5 segundos\n",
    "            segments.append(remaining)\n",
    "        \n",
    "        return segments\n",
    "\n",
    "    def process_file(self, filename):\n",
    "        \"\"\"\n",
    "        Procesa un archivo de audio individual\n",
    "        \n",
    "        :param filename: Nombre del archivo a procesar\n",
    "        \"\"\"\n",
    "        try:\n",
    "            # Cargar el archivo\n",
    "            file_path = os.path.join(self.input_folder, filename)\n",
    "            print(f\"\\nProcesando: {filename}\")\n",
    "            \n",
    "            # Cargar audio\n",
    "            audio, sr = librosa.load(file_path, sr=None)\n",
    "            print(f\"Duración original: {len(audio)/sr:.2f} segundos\")\n",
    "            \n",
    "            # Normalizar\n",
    "            audio_normalized = self.normalize_audio(audio)\n",
    "            \n",
    "            # Segmentar\n",
    "            segments = self.segment_audio(audio_normalized, sr)\n",
    "            print(f\"Número de segmentos: {len(segments)}\")\n",
    "            \n",
    "            # Guardar segmentos\n",
    "            base_name = os.path.splitext(filename)[0]\n",
    "            for i, segment in enumerate(segments, 1):\n",
    "                # Crear nombre de archivo\n",
    "                new_filename = f\"{base_name}_part{i:03d}.wav\"\n",
    "                output_path = os.path.join(self.output_folder, new_filename)\n",
    "                \n",
    "                # Guardar archivo\n",
    "                sf.write(output_path, segment, sr, subtype='PCM_16')\n",
    "                \n",
    "            return len(segments)\n",
    "            \n",
    "        except Exception as e:\n",
    "            print(f\"Error procesando {filename}: {str(e)}\")\n",
    "            return 0\n",
    "\n",
    "    def process_folder(self):\n",
    "        \"\"\"Procesa todos los archivos WAV en la carpeta de entrada\"\"\"\n",
    "        try:\n",
    "            # Obtener lista de archivos WAV\n",
    "            wav_files = [f for f in os.listdir(self.input_folder) \n",
    "                        if f.lower().endswith('.wav')]\n",
    "            \n",
    "            if not wav_files:\n",
    "                print(\"No se encontraron archivos WAV en la carpeta de entrada.\")\n",
    "                return\n",
    "            \n",
    "            print(f\"Encontrados {len(wav_files)} archivos WAV\")\n",
    "            \n",
    "            # Procesar cada archivo\n",
    "            total_segments = 0\n",
    "            for filename in tqdm(wav_files, desc=\"Procesando archivos\"):\n",
    "                segments = self.process_file(filename)\n",
    "                total_segments += segments\n",
    "            \n",
    "            print(f\"\\nProcesamiento completado:\")\n",
    "            print(f\"- Archivos procesados: {len(wav_files)}\")\n",
    "            print(f\"- Segmentos totales generados: {total_segments}\")\n",
    "            \n",
    "        except Exception as e:\n",
    "            print(f\"Error durante el procesamiento: {str(e)}\")\n",
    "\n",
    "# Uso del script\n",
    "if __name__ == \"__main__\":\n",
    "    input_folder = \"/Volumes/Nexus/GRABACIONES DE CAMPO/2024/OCTUBRE/castrelos dom-27-oct-24/CRUDO/\"\n",
    "    output_folder = \"/Volumes/Nexus/GRABACIONES DE CAMPO/2024/OCTUBRE/castrelos dom-27-oct-24/EDICIONES/\"\n",
    "    \n",
    "    # Crear instancia del preprocesador\n",
    "    processor = AudioPreprocessor(\n",
    "        input_folder=input_folder,\n",
    "        output_folder=output_folder,\n",
    "        segment_duration=60  # Duración en segundos de cada segmento\n",
    "    )\n",
    "    \n",
    "    # Procesar archivos\n",
    "    processor.process_folder()"
   ]
  },
  {
   "cell_type": "code",
   "execution_count": null,
   "id": "61f26cd6-ec74-4920-9691-8dc0ea8b6b0e",
   "metadata": {},
   "outputs": [],
   "source": []
  }
 ],
 "metadata": {
  "kernelspec": {
   "display_name": "Python 3 (ipykernel)",
   "language": "python",
   "name": "python3"
  },
  "language_info": {
   "codemirror_mode": {
    "name": "ipython",
    "version": 3
   },
   "file_extension": ".py",
   "mimetype": "text/x-python",
   "name": "python",
   "nbconvert_exporter": "python",
   "pygments_lexer": "ipython3",
   "version": "3.10.12"
  }
 },
 "nbformat": 4,
 "nbformat_minor": 5
}
