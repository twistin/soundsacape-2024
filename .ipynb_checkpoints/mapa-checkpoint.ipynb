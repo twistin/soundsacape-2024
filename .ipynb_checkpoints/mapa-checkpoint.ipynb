{
 "cells": [
  {
   "cell_type": "code",
   "execution_count": 11,
   "id": "5083983f-8e75-47b4-82a4-7d8c1a768c9e",
   "metadata": {},
   "outputs": [
    {
     "name": "stdout",
     "output_type": "stream",
     "text": [
      "El mapa de soundscapes ha sido creado con éxito y guardado como soundscapes_map.html.\n"
     ]
    }
   ],
   "source": [
    "import folium\n",
    "from geopy.geocoders import Nominatim\n",
    "import simpleaudio as sa\n",
    "import librosa\n",
    "\n",
    "# Inicializa el geolocalizador\n",
    "geolocator = Nominatim(user_agent=\"SoundScapes/1.0 (sarerac@gmail.com)\")\n",
    "\n",
    "# Define una función para obtener la latitud y longitud de una dirección\n",
    "def get_location(address):\n",
    "    location = geolocator.geocode(address)\n",
    "    return (location.latitude, location.longitude)\n",
    "\n",
    "# Define una función para reproducir audio\n",
    "def play_audio(file_path):\n",
    "    wave_obj = sa.WaveObject.from_wave_file(file_path)\n",
    "    play_obj = wave_obj.play()\n",
    "    play_obj.wait_done()\n",
    "\n",
    "# Define una función para analizar audio y devolver sus características\n",
    "def analyze_audio(file_path):\n",
    "    # Carga el archivo de audio\n",
    "    y, sr = librosa.load(file_path)\n",
    "    \n",
    "    # Obtiene las características\n",
    "    sound_level = librosa.feature.rms(y=y).mean()\n",
    "    biotic_features = librosa.feature.spectral_contrast(y=y, sr=sr)\n",
    "    anthropogenic_features = librosa.feature.zero_crossing_rate(y=y)\n",
    "    \n",
    "    return sound_level, biotic_features, anthropogenic_features\n",
    "\n",
    "# Crea un objeto de mapa\n",
    "m = folium.Map(location=[42.23282, -8.72264], zoom_start=13)\n",
    "\n",
    "# Datos de ejemplo: lista de tuplas (dirección, ruta del archivo de audio)\n",
    "locations = [\n",
    "    (\"Teis\", \"audio/bird.wav\", \"imagenes/dario.jpg\"),\n",
    "    (\"Río Eifonso\", \"audio/bird.wav\", \"imagenes/eee.jpg\"),\n",
    "    # Añade más localizaciones y archivos de audio correspondientes\n",
    "]\n",
    "\n",
    "# Añade marcadores al mapa\n",
    "for address, audio_file, image_file in locations:\n",
    "    lat, lon = get_location(address)\n",
    "    sound_level, biotic_features, anthropogenic_features = analyze_audio(audio_file)\n",
    "    \n",
    "    # Crea un popup con las características de audio\n",
    "    popup_content = f\"\"\"\n",
    "    <h4>{address}</h4>\n",
    "    <p>Nivel Sonoro: {sound_level:.2f} dB</p>\n",
    "    <p>Características Bióticas: {biotic_features.mean():.2f}</p>\n",
    "    <p>Características Antropogénicas: {anthropogenic_features.mean():.2f}</p>\n",
    "    <img src=\"{image_file}\" alt=\"Imagen de {address}\" width=\"200\">\n",
    "    <audio controls>\n",
    "      <source src=\"{audio_file}\" type=\"audio/wav\">\n",
    "      Tu navegador no soporta el elemento de audio.\n",
    "    </audio>\n",
    "    \"\"\"\n",
    "    popup = folium.Popup(popup_content, max_width=300)\n",
    "    \n",
    "    # Añade el marcador al mapa\n",
    "    folium.Marker([lat, lon], popup=popup).add_to(m)\n",
    "\n",
    "# Guarda el mapa en un archivo HTML\n",
    "m.save('soundscapes_map.html')\n",
    "\n",
    "# Mensaje de éxito\n",
    "print(\"El mapa de soundscapes ha sido creado con éxito y guardado como soundscapes_map.html.\")\n"
   ]
  },
  {
   "cell_type": "code",
   "execution_count": null,
   "id": "12018748-09a3-4dd9-93ac-266b5892e5d6",
   "metadata": {},
   "outputs": [],
   "source": [
    "m"
   ]
  },
  {
   "cell_type": "code",
   "execution_count": null,
   "id": "f04c3b02-5ae2-49cf-a63b-711417cdad86",
   "metadata": {},
   "outputs": [],
   "source": [
    "\n"
   ]
  },
  {
   "cell_type": "code",
   "execution_count": null,
   "id": "ead353b4-e3ea-42b3-a262-9345b2bdcf80",
   "metadata": {},
   "outputs": [],
   "source": []
  }
 ],
 "metadata": {
  "kernelspec": {
   "display_name": "Python 3 (ipykernel)",
   "language": "python",
   "name": "python3"
  },
  "language_info": {
   "codemirror_mode": {
    "name": "ipython",
    "version": 3
   },
   "file_extension": ".py",
   "mimetype": "text/x-python",
   "name": "python",
   "nbconvert_exporter": "python",
   "pygments_lexer": "ipython3",
   "version": "3.10.12"
  }
 },
 "nbformat": 4,
 "nbformat_minor": 5
}
