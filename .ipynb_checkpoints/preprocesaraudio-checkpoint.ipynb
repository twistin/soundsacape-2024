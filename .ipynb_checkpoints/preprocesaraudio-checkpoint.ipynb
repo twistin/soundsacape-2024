{
 "cells": [
  {
   "cell_type": "code",
   "execution_count": 1,
   "id": "9f4a65c2-30fc-4720-911f-27a382f02558",
   "metadata": {},
   "outputs": [],
   "source": [
    "import os\n",
    "import librosa\n",
    "import soundfile as sf\n",
    "from pydub import AudioSegment\n",
    "\n",
    "def preprocess_audio(input_dir, output_dir):\n",
    "    if not os.path.exists(output_dir):\n",
    "        os.makedirs(output_dir)\n",
    "\n",
    "    for filename in os.listdir(input_dir):\n",
    "        if filename.endswith('.wav'):\n",
    "            # Load audio file\n",
    "            file_path = os.path.join(input_dir, filename)\n",
    "            y, sr = librosa.load(file_path, sr=None)\n",
    "            \n",
    "            # Normalize audio\n",
    "            y = librosa.util.normalize(y)\n",
    "            \n",
    "            # Convert to mono\n",
    "            if y.ndim > 1:\n",
    "                y = librosa.to_mono(y)\n",
    "            \n",
    "            # Save processed file\n",
    "            new_filename = f\"{os.path.splitext(filename)[0]}_processed.wav\"\n",
    "            new_file_path = os.path.join(output_dir, new_filename)\n",
    "            sf.write(new_file_path, y, sr)\n",
    "\n",
    "            # Rename file (if needed)\n",
    "            new_name = f\"normalized_{new_filename}\"\n",
    "            new_name_path = os.path.join(output_dir, new_name)\n",
    "            os.rename(new_file_path, new_name_path)\n",
    "\n",
    "input_directory = \"/Users/sdcarr/Desktop/audio_files/\"\n",
    "output_directory = \"/Users/sdcarr/Desktop/audio_files/preproc\"\n",
    "preprocess_audio(input_directory, output_directory)\n"
   ]
  },
  {
   "cell_type": "code",
   "execution_count": null,
   "id": "b8a42e29-f99d-4127-9962-10e06c500c28",
   "metadata": {},
   "outputs": [],
   "source": []
  }
 ],
 "metadata": {
  "kernelspec": {
   "display_name": "Python 3 (ipykernel)",
   "language": "python",
   "name": "python3"
  },
  "language_info": {
   "codemirror_mode": {
    "name": "ipython",
    "version": 3
   },
   "file_extension": ".py",
   "mimetype": "text/x-python",
   "name": "python",
   "nbconvert_exporter": "python",
   "pygments_lexer": "ipython3",
   "version": "3.10.12"
  }
 },
 "nbformat": 4,
 "nbformat_minor": 5
}
